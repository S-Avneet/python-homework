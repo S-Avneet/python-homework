{
 "cells": [
  {
   "cell_type": "code",
   "execution_count": 4,
   "id": "596d44da-7ba4-4276-a662-9f08934b3c77",
   "metadata": {},
   "outputs": [],
   "source": [
    "# Libraries required for the functioning of the script.\n",
    "from pathlib import Path\n",
    "import csv"
   ]
  },
  {
   "cell_type": "code",
   "execution_count": 5,
   "id": "22d5b15f-e81a-4289-aa4b-e375fd949249",
   "metadata": {},
   "outputs": [],
   "source": [
    "# Financial Analysis function - this will count the Months in the csv file, calculates the Net Total Amount of \n",
    "# Profit/Losses and the Average of the Changes in Profit/Losses\n",
    "\n",
    "def fin_analysis(budget):\n",
    "    \n",
    "    # Variables declaration\n",
    "    tot_months = 0\n",
    "    net_total = 0\n",
    "    prev_val = 0\n",
    "    net_diff = 0\n",
    "    net_diff_list = []\n",
    "    \n",
    "    for dat in budget:\n",
    "        # Counts the number of months in the csv file\n",
    "        tot_months = tot_months + 1\n",
    "        # Calculates the Net Total Amount of Profit/Losses \n",
    "        net_total = net_total + int(dat[1])\n",
    "        # List net_diff_list that collects all difference from the list of Profit/Losses\n",
    "        net_diff = int(dat[1]) - prev_val\n",
    "        prev_val = int(dat[1])\n",
    "        net_diff_list = net_diff_list + [net_diff]\n",
    "    \n",
    "    # Deletes the first value from the list    \n",
    "    net_diff_list = net_diff_list[1:]\n",
    "    \n",
    "    # Calculates the Average of the Changes in Profit/Losses\n",
    "    avg_pnl = round((sum(net_diff_list) / len(net_diff_list)), 2)\n",
    "    \n",
    "    print(f'Financial Analysis')\n",
    "    print(f'------------------')\n",
    "    print(f'Total Months: {tot_months}')\n",
    "    print(f'Net Total: ${net_total}')\n",
    "    print(f'Average Change: ${avg_pnl}')"
   ]
  },
  {
   "cell_type": "code",
   "execution_count": 6,
   "id": "79bdd1c5-2184-4d93-a3d4-4a0299cb5582",
   "metadata": {},
   "outputs": [
    {
     "name": "stdout",
     "output_type": "stream",
     "text": [
      "Financial Analysis\n",
      "------------------\n",
      "Total Months: 86\n",
      "Net Total: $38382578\n",
      "Average Change: $-2315.12\n"
     ]
    }
   ],
   "source": [
    "# Variable that stores the path of the csv file.\n",
    "csvpath = \"C:/Users/Common Machine/Downloads/budget_data.csv\"\n",
    "\n",
    "# Calling the file\n",
    "with open(csvpath, 'r') as data:\n",
    "    csvread = csv.reader(data, delimiter = ',')\n",
    "    header = next(csvread)\n",
    "    \n",
    "    # Function being called to print out the outcome.\n",
    "    fin_analysis(csvread)"
   ]
  }
 ],
 "metadata": {
  "kernelspec": {
   "display_name": "Python 3",
   "language": "python",
   "name": "python3"
  },
  "language_info": {
   "codemirror_mode": {
    "name": "ipython",
    "version": 3
   },
   "file_extension": ".py",
   "mimetype": "text/x-python",
   "name": "python",
   "nbconvert_exporter": "python",
   "pygments_lexer": "ipython3",
   "version": "3.8.8"
  }
 },
 "nbformat": 4,
 "nbformat_minor": 5
}
